{
  "nbformat": 4,
  "nbformat_minor": 0,
  "metadata": {
    "colab": {
      "provenance": []
    },
    "kernelspec": {
      "name": "python3",
      "display_name": "Python 3"
    },
    "language_info": {
      "name": "python"
    }
  },
  "cells": [
    {
      "cell_type": "code",
      "source": [
        "!pip install praw\n",
        "!pip install openai"
      ],
      "metadata": {
        "colab": {
          "base_uri": "https://localhost:8080/"
        },
        "id": "G-FoHrTrySfZ",
        "outputId": "b5013dd7-8839-4426-bb7f-6dcb705b0bf0"
      },
      "execution_count": 1,
      "outputs": [
        {
          "output_type": "stream",
          "name": "stdout",
          "text": [
            "Requirement already satisfied: praw in /usr/local/lib/python3.10/dist-packages (7.7.1)\n",
            "Requirement already satisfied: prawcore<3,>=2.1 in /usr/local/lib/python3.10/dist-packages (from praw) (2.4.0)\n",
            "Requirement already satisfied: update-checker>=0.18 in /usr/local/lib/python3.10/dist-packages (from praw) (0.18.0)\n",
            "Requirement already satisfied: websocket-client>=0.54.0 in /usr/local/lib/python3.10/dist-packages (from praw) (1.8.0)\n",
            "Requirement already satisfied: requests<3.0,>=2.6.0 in /usr/local/lib/python3.10/dist-packages (from prawcore<3,>=2.1->praw) (2.31.0)\n",
            "Requirement already satisfied: charset-normalizer<4,>=2 in /usr/local/lib/python3.10/dist-packages (from requests<3.0,>=2.6.0->prawcore<3,>=2.1->praw) (3.3.2)\n",
            "Requirement already satisfied: idna<4,>=2.5 in /usr/local/lib/python3.10/dist-packages (from requests<3.0,>=2.6.0->prawcore<3,>=2.1->praw) (3.7)\n",
            "Requirement already satisfied: urllib3<3,>=1.21.1 in /usr/local/lib/python3.10/dist-packages (from requests<3.0,>=2.6.0->prawcore<3,>=2.1->praw) (2.0.7)\n",
            "Requirement already satisfied: certifi>=2017.4.17 in /usr/local/lib/python3.10/dist-packages (from requests<3.0,>=2.6.0->prawcore<3,>=2.1->praw) (2024.2.2)\n",
            "Requirement already satisfied: openai in /usr/local/lib/python3.10/dist-packages (0.28.0)\n",
            "Requirement already satisfied: requests>=2.20 in /usr/local/lib/python3.10/dist-packages (from openai) (2.31.0)\n",
            "Requirement already satisfied: tqdm in /usr/local/lib/python3.10/dist-packages (from openai) (4.66.4)\n",
            "Requirement already satisfied: aiohttp in /usr/local/lib/python3.10/dist-packages (from openai) (3.9.5)\n",
            "Requirement already satisfied: charset-normalizer<4,>=2 in /usr/local/lib/python3.10/dist-packages (from requests>=2.20->openai) (3.3.2)\n",
            "Requirement already satisfied: idna<4,>=2.5 in /usr/local/lib/python3.10/dist-packages (from requests>=2.20->openai) (3.7)\n",
            "Requirement already satisfied: urllib3<3,>=1.21.1 in /usr/local/lib/python3.10/dist-packages (from requests>=2.20->openai) (2.0.7)\n",
            "Requirement already satisfied: certifi>=2017.4.17 in /usr/local/lib/python3.10/dist-packages (from requests>=2.20->openai) (2024.2.2)\n",
            "Requirement already satisfied: aiosignal>=1.1.2 in /usr/local/lib/python3.10/dist-packages (from aiohttp->openai) (1.3.1)\n",
            "Requirement already satisfied: attrs>=17.3.0 in /usr/local/lib/python3.10/dist-packages (from aiohttp->openai) (23.2.0)\n",
            "Requirement already satisfied: frozenlist>=1.1.1 in /usr/local/lib/python3.10/dist-packages (from aiohttp->openai) (1.4.1)\n",
            "Requirement already satisfied: multidict<7.0,>=4.5 in /usr/local/lib/python3.10/dist-packages (from aiohttp->openai) (6.0.5)\n",
            "Requirement already satisfied: yarl<2.0,>=1.0 in /usr/local/lib/python3.10/dist-packages (from aiohttp->openai) (1.9.4)\n",
            "Requirement already satisfied: async-timeout<5.0,>=4.0 in /usr/local/lib/python3.10/dist-packages (from aiohttp->openai) (4.0.3)\n"
          ]
        }
      ]
    },
    {
      "cell_type": "code",
      "execution_count": 2,
      "metadata": {
        "id": "DPGepnXdx7xF"
      },
      "outputs": [],
      "source": [
        "# Import required libraries\n",
        "\n",
        "import praw\n",
        "import nltk\n",
        "from nltk.sentiment.vader import SentimentIntensityAnalyzer\n",
        "import openai"
      ]
    },
    {
      "cell_type": "code",
      "source": [
        "# Create a PRAW instance with Reddit API credentials\n",
        "reddit = praw.Reddit(client_id=\"0RI9jkKkHEptRhZzX8i_aA\",\n",
        "                     client_secret=\"L6Mf0kP_GYZWi6EXBhPsGQK1jt0DTA\",\n",
        "                     user_agent=\"clinical\")\n",
        "\n",
        "# Set the OpenAI API key\n",
        "openai.api_key = 'Enter the API-key'"
      ],
      "metadata": {
        "id": "-VYSLzyp4QPY"
      },
      "execution_count": 11,
      "outputs": []
    },
    {
      "cell_type": "code",
      "source": [
        "# List of subreddit names to search\n",
        "subreddits = [\"clinicalresearch\", \"cancer\", \"medicine\", \"health\", \"breastcancer\",\n",
        "              \"melbourne\", \"auckland\", \"ClinTrialExplain\", \"universityofauckland\", \"askscience\"]"
      ],
      "metadata": {
        "id": "1WLoj_qY4S7u"
      },
      "execution_count": 4,
      "outputs": []
    },
    {
      "cell_type": "code",
      "source": [
        "# Download the VADER lexicon for sentiment analysis\n",
        "nltk.download('vader_lexicon')\n",
        "\n",
        "# Initialize the Sentiment Intensity Analyzer\n",
        "sia = SentimentIntensityAnalyzer()"
      ],
      "metadata": {
        "colab": {
          "base_uri": "https://localhost:8080/"
        },
        "id": "RP4DUvUF_3im",
        "outputId": "c6196d97-2d91-4bb5-9b51-b53e87080a09"
      },
      "execution_count": 5,
      "outputs": [
        {
          "output_type": "stream",
          "name": "stderr",
          "text": [
            "[nltk_data] Downloading package vader_lexicon to /root/nltk_data...\n",
            "[nltk_data]   Package vader_lexicon is already up-to-date!\n"
          ]
        }
      ]
    },
    {
      "cell_type": "code",
      "source": [
        "# Function to generate responses using the OpenAI GPT-3.5 model\n",
        "def generate_openai_response(prompt):\n",
        "\n",
        "  response = openai.ChatCompletion.create(model=\"gpt-3.5-turbo\",\n",
        "                                           messages=[{\"role\": \"system\", \"content\": prompt}],\n",
        "                                           temperature=0.5,\n",
        "                                           max_tokens=100)\n",
        "  return response.choices[0].message['content'].strip()"
      ],
      "metadata": {
        "id": "Cvd_k9p0ME0e"
      },
      "execution_count": 13,
      "outputs": []
    },
    {
      "cell_type": "code",
      "source": [
        "# Dictionary to store sentiment counts\n",
        "sentiment_counts = {\"Very happy and will try again\": 0,\n",
        "                    \"Happy with the results\": 0,\n",
        "                    \"Neutral\": 0,\n",
        "                    \"Not happy or reluctant to try\": 0,\n",
        "                    \"Against it\": 0}"
      ],
      "metadata": {
        "id": "HGKPzAuQAzn8"
      },
      "execution_count": 7,
      "outputs": []
    },
    {
      "cell_type": "code",
      "source": [
        "# Loop through each subreddit\n",
        "for subreddit_name in subreddits:\n",
        "\n",
        "  # Get the subreddit\n",
        "  subreddit = reddit.subreddit(subreddit_name)\n",
        "\n",
        "  # Get the posts related to \"clinical trial\"\n",
        "  posts = subreddit.search(\"clinical trial\", limit=2)\n",
        "  print(f\"\\nScraping posts from r/{subreddit_name}:\")\n",
        "\n",
        "  # Loop through each post\n",
        "  for post in posts:\n",
        "\n",
        "    print(\"\\nPost Title:\", post.title)\n",
        "    print(\"\")\n",
        "    print(\"Post Comments:\")\n",
        "\n",
        "    comment_count = 0\n",
        "\n",
        "    # Get the comments from the post\n",
        "    post.comments.replace_more(limit=0)\n",
        "    for comment in post.comments.list():\n",
        "\n",
        "      if comment_count >= 5:\n",
        "        break\n",
        "\n",
        "      # Perform sentiment analysis on each comment\n",
        "      comment_text = comment.body\n",
        "      sentiment_scores = sia.polarity_scores(comment_text)\n",
        "      print(\"\\nComment:\", comment_text)\n",
        "      print(f\"Sentiment Compound Score: {sentiment_scores['compound']}\")\n",
        "\n",
        "      # Categorize the sentiment based on the compound score\n",
        "      if sentiment_scores['compound'] > 0.6:\n",
        "        print(\"Sentiment: Very happy and will try again\")\n",
        "        sentiment_counts[\"Very happy and will try again\"] += 1\n",
        "\n",
        "      elif sentiment_scores['compound'] > 0.2:\n",
        "        print(\"Sentiment: Happy with the results\")\n",
        "        sentiment_counts[\"Happy with the results\"] += 1\n",
        "\n",
        "      elif sentiment_scores['compound'] > -0.2:\n",
        "        print(\"Sentiment: Neutral\")\n",
        "        sentiment_counts[\"Neutral\"] += 1\n",
        "\n",
        "      elif sentiment_scores['compound'] > -0.6:\n",
        "        print(\"Sentiment: Not happy or reluctant to try\")\n",
        "        sentiment_counts[\"Not happy or reluctant to try\"] += 1\n",
        "\n",
        "      else:\n",
        "        print(\"Sentiment: Against it\")\n",
        "        sentiment_counts[\"Against it\"] += 1\n",
        "\n",
        "      print(\"-\" * 60)\n",
        "\n",
        "      # Increment counter\n",
        "      comment_count += 1"
      ],
      "metadata": {
        "colab": {
          "base_uri": "https://localhost:8080/"
        },
        "id": "npxZvfsc4XlH",
        "outputId": "ae9d5a2b-3fc8-40cf-b69a-605eeaf8aad2"
      },
      "execution_count": 8,
      "outputs": [
        {
          "output_type": "stream",
          "name": "stderr",
          "text": [
            "WARNING:praw:It appears that you are using PRAW in an asynchronous environment.\n",
            "It is strongly recommended to use Async PRAW: https://asyncpraw.readthedocs.io.\n",
            "See https://praw.readthedocs.io/en/latest/getting_started/multiple_instances.html#discord-bots-and-asynchronous-environments for more info.\n",
            "\n"
          ]
        },
        {
          "output_type": "stream",
          "name": "stdout",
          "text": [
            "\n",
            "Scraping posts from r/clinicalresearch:\n"
          ]
        },
        {
          "output_type": "stream",
          "name": "stderr",
          "text": [
            "WARNING:praw:It appears that you are using PRAW in an asynchronous environment.\n",
            "It is strongly recommended to use Async PRAW: https://asyncpraw.readthedocs.io.\n",
            "See https://praw.readthedocs.io/en/latest/getting_started/multiple_instances.html#discord-bots-and-asynchronous-environments for more info.\n",
            "\n"
          ]
        },
        {
          "output_type": "stream",
          "name": "stdout",
          "text": [
            "\n",
            "Post Title: I'm considering taking part in a Phase 1 clinical trial, how risky is it?\n",
            "\n",
            "Post Comments:\n"
          ]
        },
        {
          "output_type": "stream",
          "name": "stderr",
          "text": [
            "WARNING:praw:It appears that you are using PRAW in an asynchronous environment.\n",
            "It is strongly recommended to use Async PRAW: https://asyncpraw.readthedocs.io.\n",
            "See https://praw.readthedocs.io/en/latest/getting_started/multiple_instances.html#discord-bots-and-asynchronous-environments for more info.\n",
            "\n"
          ]
        },
        {
          "output_type": "stream",
          "name": "stdout",
          "text": [
            "\n",
            "Comment: Been seeing more and more of these posts lately, is it because of that one TikTok video with the guy showing off how much he made participating in clinical trials?…\n",
            "\n",
            "As mentioned, Phase 1 trials are very focused on safety which does usually mean a lot of PK and ADA samples (EX: blood draws pre-dose, post-dose, 1 hour post-dose, 8 hour post-dose, etc.), ECGs, etc. You’ll be poked and prodded a lot but the whole basis of the trial is that they believe it to be safe. You are essentially a guinea pig, but it’s not like they’re just guessing here. You’ll likely be asked to complete some sort of follow-up, but it could just be a few quick phone calls to confirm if you’re still feeling alright. \n",
            "\n",
            "No one here or at the study site can guarantee you won’t experience any adverse events (side effects), but there is a reason they’re doing this in a hospital setting. You’ll have essentially around the clock observation. Read the informed consent thoroughly and ASK QUESTIONS, that’s what the study team is there for - they should be able to address any concerns before, during and after.\n",
            "Sentiment Compound Score: 0.7362\n",
            "Sentiment: Very happy and will try again\n",
            "------------------------------------------------------------\n",
            "\n",
            "Comment: Phase 1 is all about safety, so keep that in mind. They’ve established a good proof of concept with animal models, but it’s never been in humans. So, they THINK it’s safe, but the purpose of the trial is to prove it.\n",
            "Sentiment Compound Score: 0.7717\n",
            "Sentiment: Very happy and will try again\n",
            "------------------------------------------------------------\n",
            "\n",
            "Comment: I would definitely ask to the consent form to read in advance (typically they’ll be able to email it to you). Not liking blood draws is kinda a deal-breaker for many- there are some where you’ll have your blood drawn 10x or more. If you didn’t mind having your blood drawn, participating in a Phase 1 study would be a lot more approachable, but it might be one of the most important parts of the study. If getting your blood drawn is stressful to you, I could definitely see skipping Phase I trials.\n",
            "\n",
            "More about the study:\n",
            "- You’ll check in for the designated time- you won’t get to come/go as you please\n",
            "- You might be asked to eat a standardized meal or pick from a standard menu at certain times\n",
            "- when it is time to get your blood drawn, you’ll get your blood drawn. This could mean a nurse waking you up at 2am and 6am to poke you.\n",
            "- Typically, you’ll be around other people \n",
            "- you have a right to leave/change your mind at any time\n",
            "- every phase 1 trial is different so one person’s experience may not apply to you. There will be experienced participants there that will tell you stories about what’s typical, but don’t count on one trial being exactly like another\n",
            "Sentiment Compound Score: 0.8823\n",
            "Sentiment: Very happy and will try again\n",
            "------------------------------------------------------------\n",
            "\n",
            "Comment: So I’m working on a trial that includes Phase I dose escalation. Four dose levels, test the first in ten patients, no dose limiting toxicities, move onto the next. We watch that data like a freaking hawk. \n",
            "\n",
            "We are reasonably confident that it’s safe - although it’s cancer treatments, so we can’t use healthy patients because of toxicity risks. But we need to figure out how much is too much. We’re just entering dose four and we’re pretty sure we’ll have to call it and stick with dose three.\n",
            "\n",
            "What you can expect?  \n",
            "- A very high focus on pharmacovigilence- aka safety. You will be prodded and poked, asked about adverse events and potentially sent for scans like CT’s depending on the drug. Check the schedule of events and follow up expectations.\n",
            "- Everything will be in your Patient Information Sheet, so read it. And ask questions. That’s what the clinical staff are there for. If something worries you, ask them.\n",
            "- You have a right to withdraw consent at any time. If you get three hours in and it’s too much, just say.\n",
            "Sentiment Compound Score: 0.8591\n",
            "Sentiment: Very happy and will try again\n",
            "------------------------------------------------------------\n",
            "\n",
            "Comment: I've been managing phase 1 for years. If this is an ascending dose study, where they test progressively higher doses in each group, ask which group you are being slated for, and how many groups  in total are planned. This will give you an idea of where you may land in the progression, and therefore a general idea of the probability of adverse effects ie if you are in group 8 out of 10 planned, you may be getting a higher dose and therefore possibly have more side effects.  Ask the name of the drug and look it up. Ask them to send you a copy of the consent form. This should give you plenty of information to help you weigh the risk.\n",
            "Sentiment Compound Score: 0.0\n",
            "Sentiment: Neutral\n",
            "------------------------------------------------------------\n",
            "\n",
            "Post Title: Clinical trial manager to Clinical Scientist\n",
            "\n",
            "Post Comments:\n"
          ]
        },
        {
          "output_type": "stream",
          "name": "stderr",
          "text": [
            "WARNING:praw:It appears that you are using PRAW in an asynchronous environment.\n",
            "It is strongly recommended to use Async PRAW: https://asyncpraw.readthedocs.io.\n",
            "See https://praw.readthedocs.io/en/latest/getting_started/multiple_instances.html#discord-bots-and-asynchronous-environments for more info.\n",
            "\n"
          ]
        },
        {
          "output_type": "stream",
          "name": "stdout",
          "text": [
            "\n",
            "Comment: You can do it. Sell your excel skills.\n",
            "Sentiment Compound Score: 0.4588\n",
            "Sentiment: Happy with the results\n",
            "------------------------------------------------------------\n",
            "\n",
            "Comment: PhD here. Transitioned from academia to industry into a heavily clin operational role. Really wanted to do the science but had to get out of academia before my mental and physical health suffered. Transitioned to a CS position a couple years later and am at Director Level now. Start with your network and focus on the fact that the PhD taught you how to think scientifically and work collaboratively, and CTM gave you exposure to what it takes to execute trials successfully. Together , you’re the person who can contribute to the strategy and design with an eye for already knowing if the scientific integrity holds up to operational feasibility and can effectively communicate that to others because you speak both “languages”. Good luck!!!!!!!!\n",
            "Sentiment Compound Score: 0.9227\n",
            "Sentiment: Very happy and will try again\n",
            "------------------------------------------------------------\n",
            "\n",
            "Comment: Have you tried BMS, Novartis for assoc clinical scientist roles? With PhD should be more than qualified there. If you’re able to work located where their offices are because they are mostly hybrid. And Merck also has CS roles that you may be qualified for with PhD! Is more operational too which could help.\n",
            "Sentiment Compound Score: 0.4574\n",
            "Sentiment: Happy with the results\n",
            "------------------------------------------------------------\n",
            "\n",
            "Comment: Do you have the proper education and credentials?\n",
            "Sentiment Compound Score: 0.0\n",
            "Sentiment: Neutral\n",
            "------------------------------------------------------------\n",
            "\n",
            "Comment: If you’ve found yourself questioning designs or analyses, you may be a good fit. But…the pressure of designing can be a big change. Also, designing can be straightforward while the analyses are challenging, especially when performance metrics aren’t meeting requirements. Good luck!\n",
            "Sentiment Compound Score: 0.8622\n",
            "Sentiment: Very happy and will try again\n",
            "------------------------------------------------------------\n",
            "\n",
            "Scraping posts from r/cancer:\n"
          ]
        },
        {
          "output_type": "stream",
          "name": "stderr",
          "text": [
            "WARNING:praw:It appears that you are using PRAW in an asynchronous environment.\n",
            "It is strongly recommended to use Async PRAW: https://asyncpraw.readthedocs.io.\n",
            "See https://praw.readthedocs.io/en/latest/getting_started/multiple_instances.html#discord-bots-and-asynchronous-environments for more info.\n",
            "\n"
          ]
        },
        {
          "output_type": "stream",
          "name": "stdout",
          "text": [
            "\n",
            "Post Title: Clinical trials - completely lost 😞\n",
            "\n",
            "Post Comments:\n"
          ]
        },
        {
          "output_type": "stream",
          "name": "stderr",
          "text": [
            "WARNING:praw:It appears that you are using PRAW in an asynchronous environment.\n",
            "It is strongly recommended to use Async PRAW: https://asyncpraw.readthedocs.io.\n",
            "See https://praw.readthedocs.io/en/latest/getting_started/multiple_instances.html#discord-bots-and-asynchronous-environments for more info.\n",
            "\n"
          ]
        },
        {
          "output_type": "stream",
          "name": "stdout",
          "text": [
            "\n",
            "Comment: With pancreatic + liver involvement he may not be eligible for anything currently being looked at. I don't have pancreatic but in looking for trials for my own cancer I've never seen any pancreatic trials beyond stage 3. I'd be trying to get him started on chemo sooner than 2 weeks. Every second counts if you ask me. \n",
            "\n",
            "Being there for him is probably the best you can do right now though.\n",
            "Sentiment Compound Score: -0.0772\n",
            "Sentiment: Neutral\n",
            "------------------------------------------------------------\n",
            "\n",
            "Comment: I don' have very much information and hope other people can comment and help you but I will encourage you to keep reaching out. He can reach out to the nurse or social worker or whatever is appropriate to reach out to and ask.  \n",
            "\n",
            "\n",
            "The 'Cancer Research UK' also has a phone number listed on this page you could try: [https://www.cancerresearchuk.org/about-cancer/find-a-clinical-trial/how-to-join-a-clinical-trial](https://www.cancerresearchuk.org/about-cancer/find-a-clinical-trial/how-to-join-a-clinical-trial) \n",
            "\n",
            "Another thing to do is look into counseling for yourself, if you are able. This is a lot to take in and deal with. All the best\n",
            "Sentiment Compound Score: 0.872\n",
            "Sentiment: Very happy and will try again\n",
            "------------------------------------------------------------\n",
            "\n",
            "Comment: I have some experience with trying to get a family member with late stage cancer into one. I learned that clinical trials have a very short window of enrolment and take very few patients across the entire world (like, double digits), depending on the stage of the drug. \n",
            "\n",
            "There may simply not be any active clinical trials that he is eligible for, as your oncology team should be the ones most able to connect you to one.\n",
            "Sentiment Compound Score: -0.7689\n",
            "Sentiment: Against it\n",
            "------------------------------------------------------------\n",
            "\n",
            "Comment: I know you’re in the UK, but PanCan helped look into possible clinical trials for my mom and is worth a shot: https://pancan.org/facing-pancreatic-cancer/treatment/treatment-types/clinical-trials/\n",
            "\n",
            "I wish you and your dad all the best.\n",
            "Sentiment Compound Score: 0.9136\n",
            "Sentiment: Very happy and will try again\n",
            "------------------------------------------------------------\n",
            "\n",
            "Comment: I’ve been researching cancer treatments through Chat GPT and medical forums, information is not currently available everywhere I’ve looked but I’ve hypothesized that injections of bone marrow cells into a cancerous tumor would help cause a degenerative effect on the cancer cells and prevents them from growing more. Bone Marrow contains T cells and NK cells that could potentially target and destroy cancer cells. Cancer is the body as a cell going through apoptosis. I don’t currently have connections in the traditional medical community, so I can not find anyone to start researching on this. Feel free to show them this message if you feel they would look into it for y’all.\n",
            "Sentiment Compound Score: -0.9707\n",
            "Sentiment: Against it\n",
            "------------------------------------------------------------\n",
            "\n",
            "Post Title: DLBCL Nivolumab Clinical Trial?\n",
            "\n",
            "Post Comments:\n"
          ]
        },
        {
          "output_type": "stream",
          "name": "stderr",
          "text": [
            "WARNING:praw:It appears that you are using PRAW in an asynchronous environment.\n",
            "It is strongly recommended to use Async PRAW: https://asyncpraw.readthedocs.io.\n",
            "See https://praw.readthedocs.io/en/latest/getting_started/multiple_instances.html#discord-bots-and-asynchronous-environments for more info.\n",
            "\n"
          ]
        },
        {
          "output_type": "stream",
          "name": "stdout",
          "text": [
            "\n",
            "Comment: Have the trials team approached you with consent? I would encourage you to ask a lot of questions. :) \n",
            "\n",
            "I am a clinical trials nurse working with immunotherapies such as that which you described including nivolumab. I can’t speak to your specific trial but I will say that I hope you consider it if it is being offered to you. There are usually a lot of time commitments with clinical trials. Visits, follow ups, bloodworks, scans etc. You’ll need to consider the possible benefits and also risk of adverse events as well as time commitment. But, if you were recently diagnosed and this is one of the first therapies offered to you, there’s a good chance that your team believes this treatment might be beneficial- especially because it looks like you will still be receiving your standard of care chemotherapy.\n",
            "Sentiment Compound Score: 0.9842\n",
            "Sentiment: Very happy and will try again\n",
            "------------------------------------------------------------\n",
            "\n",
            "Comment: Is this trial for DLBCL or PMBCL?\n",
            "\n",
            "If it’s the former, this is a trash trial — as there are zero indications for it (no efficacy as mono therapy or combined therapy, or combined with CAR-T or bispecifics). This along with a lack of genetic alterations that favor pd-1.\n",
            "\n",
            "Perhaps this is a PMBCL trial? As this makes more sense. Can you link the trial?\n",
            "Sentiment Compound Score: 0.2359\n",
            "Sentiment: Happy with the results\n",
            "------------------------------------------------------------\n",
            "\n",
            "Comment: Yeah so basically they have asked for my consent, the ball is in my court right now to decide whether I'll just do standard care or standard care with 50/50 chance of being a part of Nivolumab, part of me is concerned with some of the potential severe risks, although rare still a risk, the benefits do seem nice, as from what I gather the whole idea is to have immunotherapy as a standard method of care, just wanted to see what others had to say on it, they do believe it would be beneficial as nivolumab is something that would be use if I were to relapse anyway.\n",
            "Sentiment Compound Score: 0.9451\n",
            "Sentiment: Very happy and will try again\n",
            "------------------------------------------------------------\n",
            "\n",
            "Comment: Yes PMBCL, I'm still learning terminology but I'm assuming it means primary mediastinal b cell lymphoma which is what I have, I'm leaning towards signing up for it but again wanted to see what others may think about it.\n",
            "Sentiment Compound Score: 0.2144\n",
            "Sentiment: Happy with the results\n",
            "------------------------------------------------------------\n",
            "\n",
            "Comment: Nivolumab is basically a part of standard of care for a lot of cancers already :) because of results of trials\n",
            "Sentiment Compound Score: 0.7351\n",
            "Sentiment: Very happy and will try again\n",
            "------------------------------------------------------------\n",
            "\n",
            "Scraping posts from r/medicine:\n"
          ]
        },
        {
          "output_type": "stream",
          "name": "stderr",
          "text": [
            "WARNING:praw:It appears that you are using PRAW in an asynchronous environment.\n",
            "It is strongly recommended to use Async PRAW: https://asyncpraw.readthedocs.io.\n",
            "See https://praw.readthedocs.io/en/latest/getting_started/multiple_instances.html#discord-bots-and-asynchronous-environments for more info.\n",
            "\n"
          ]
        },
        {
          "output_type": "stream",
          "name": "stdout",
          "text": [
            "\n",
            "Post Title: Pseudoscience on clinical trials.gov\n",
            "\n",
            "Post Comments:\n"
          ]
        },
        {
          "output_type": "stream",
          "name": "stderr",
          "text": [
            "WARNING:praw:It appears that you are using PRAW in an asynchronous environment.\n",
            "It is strongly recommended to use Async PRAW: https://asyncpraw.readthedocs.io.\n",
            "See https://praw.readthedocs.io/en/latest/getting_started/multiple_instances.html#discord-bots-and-asynchronous-environments for more info.\n",
            "\n"
          ]
        },
        {
          "output_type": "stream",
          "name": "stdout",
          "text": [
            "\n",
            "Comment: [Clinicaltrials.gov](https://Clinicaltrials.gov) is just a website. You don't need IRB approval to post there. Is the \"study\" being conducted by a legitimate organization, or have they just added their propaganda to the website to give it a veneer of legitimacy?\n",
            "Sentiment Compound Score: -0.5505\n",
            "Sentiment: Not happy or reluctant to try\n",
            "------------------------------------------------------------\n",
            "\n",
            "Comment: Quacks, quackery, and bullshit frustrate me, but also intrigued me and how crazy and ludicrous they can be. May I ask which clinical trial you were referring to? My interest is piqued.\n",
            "Sentiment Compound Score: -0.6808\n",
            "Sentiment: Against it\n",
            "------------------------------------------------------------\n",
            "\n",
            "Comment: Worth pointing out that the PI for the studies sued (and lost) the AAO for investigating him over ethics complaints specifically over the studies you're describing.\n",
            "\n",
            "https://www.govinfo.gov/content/pkg/USCOURTS-cand-3_20-cv-08124/pdf/USCOURTS-cand-3_20-cv-08124-1.pdf\n",
            "Sentiment Compound Score: -0.2023\n",
            "Sentiment: Not happy or reluctant to try\n",
            "------------------------------------------------------------\n",
            "\n",
            "Comment: I've seen this happening, and expect it to become much worse given the horrible [\"Right to Try\" laws](https://www.statnews.com/2018/01/16/right-to-try-legislation-patients/) that were rammed through at US state and federal levels by anti-science political activists.\n",
            "\n",
            "Basically, \"right to try\" allows unethical actors to dose patients with experimental drugs, even if there is only data from a single, small phase 1 trial of tolerability.\n",
            "\n",
            "Here are some examples of unethical trials:\n",
            "\n",
            "Cancer quack Stanislaw Burzynski has been selling participation in bogus trials since the 1990s, ever since the FDA enabled him. You can read about the trials at [USA Today](https://www.usatoday.com/story/news/nation/2013/11/15/stanislaw-burzynski-cancer-controversy/2994561/) or in David Gorski's [writings](https://skepticalinquirer.org/2014/03/stanislaw-burzynski-four-decades-of-an-unproven-cancer-cure/).\n",
            "\n",
            "Burzynski's lawyer Richard Jaffe admitted that Burzynski's biggest registered trial was a \"joke\". Jaffe also wrote \"It was all an artifice, a vehicle we and the FDA created to legally give the patients Burzynski's treatment.\"\n",
            "\n",
            "Scammy stem cell clinics- STAT News has [covered](https://www.statnews.com/2019/06/11/stem-cell-clinics-clinical-trials-dot-gov/) their dubious trials.\n",
            "\n",
            "There are also a number of trials for pseudoscience where the patients aren't paying but they are doing [cargo cult science](https://en.wikipedia.org/wiki/Cargo_cult_science). The trials are unethical because there are risks but implausible benefits.\n",
            "\n",
            "The NIH—through its pseudoscience divisions OCCAM and NCCIH, formerly NCCAM, formerly Office of Alternative Medicine— has [wasted billions](https://reason.com/podcast/2015/09/04/alternative-medicine-racket/) of taxpayer dollars funding trials of fake medicine (not finding anything that works, including Burzynski's treatment).\n",
            "\n",
            "The NCCIH funded the [highly unethical](https://www.ncbi.nlm.nih.gov/pmc/articles/PMC2438277/) TACT and TACT2 trials to promote chelation quackery. The investigator sites included \"disinformation dozen\" member Rashid Buttar, among other quacks.\n",
            "\n",
            "Taxpayer dollars have also funded an unethical ([coverage](https://www.thedailybeast.com/us-pays-for-scientology-experiment-on-sick-veterans), [discussion](https://www.sciencebasedmedicine.org/taxpayers-fund-scientology-research-on-gulf-war-veterans/)) trial of [Scientology \"detox\"](https://twitter.com/LymeScience/status/1230190194629976064) on veterans. The results were later published using predatory publisher MDPI.\n",
            "\n",
            "Additionally, thanks to wealthy donors like Mets owners [Steven and Alexandra Cohen](https://www.bloomberg.com/news/features/2020-10-07/lyme-disease-dubious-alternative-treatments-are-killing-patients), the [Chronic Lyme Cult](https://www.ncbi.nlm.nih.gov/pmc/articles/PMC4489928/) has committed over $100 million to legitimize themselves. Advocates for chronic Lyme pseudoscience have funded scientists and unethical trials at mainstream academic institutions.\n",
            "\n",
            "For example, chronic Lyme pseudoscience groups funded scientists at Stanford who did some cargo cult science and found that Disulfiram killed B. burgdorferi *in vitro*. Then quacks started selling it to their patients and promoted it using [predatory publisher MDPI.](https://twitter.com/LymeScience/status/1197687831021400065) And there are large Facebook groups promoting it.\n",
            "\n",
            "There have been reports of [abuse of a teenager](https://www.psychiatry.org/File%20Library/Psychiatrists/Meetings/Annual-Meeting/2021/2021-APA-Annual-Meeting-Poster-Proceedings.pdf) and [death of a patient](https://www.mayoclinicproceedings.org/article/S0025-6196(21)00408-0/fulltext) from disulfiram, among other adverse events.\n",
            "\n",
            "Then Columbia University's Brian Fallon, who has taken millions of dollars from chronic Lyme advocates, registered an unethical [clinical trial](https://clinicaltrials.gov/ct2/show/NCT03891667) of Disulfiram. And the very presence of the trial is being used to promote the dangerous drug as a treatment for \"chronic Lyme\", when real Lyme disease is easily treated with established antibiotics.\n",
            "\n",
            "Chronic Lyme pseudoscience advocates also funded Johns Hopkins researcher John Aucott, who is now [recruiting](https://clinicaltrials.gov/ct2/show/NCT05219929) for yet another unethical trial of long-term antibiotics. After Fallon published his own (negative) [study](https://journals.lww.com/neurotodayonline/fulltext/2007/12040/New_Study_Reports_Short_term_Benefits_But_Not.13.aspx) in 2008, one expert [said](https://n.neurology.org/content/70/13/986.long) \"enough is enough\".\n",
            "\n",
            "Wow this got long- yes lots of harmful and unethical things have occurred in registered clinical trials.\n",
            "Sentiment Compound Score: -0.9817\n",
            "Sentiment: Against it\n",
            "------------------------------------------------------------\n",
            "\n",
            "Comment: Can you name drop the institution listed or the PI? \n",
            "\n",
            "I'm assuming this is a chronic idiopathic condition with vague unspecified symptoms that destroy patients QOL and lead them to desperate measures like paying for quackery.\n",
            "Sentiment Compound Score: -0.7003\n",
            "Sentiment: Against it\n",
            "------------------------------------------------------------\n",
            "\n",
            "Post Title: Single-Dose Psilocybin Treatment for Major Depressive Disorder: A Randomized Clinical Trial\n",
            "\n",
            "Post Comments:\n"
          ]
        },
        {
          "output_type": "stream",
          "name": "stderr",
          "text": [
            "WARNING:praw:It appears that you are using PRAW in an asynchronous environment.\n",
            "It is strongly recommended to use Async PRAW: https://asyncpraw.readthedocs.io.\n",
            "See https://praw.readthedocs.io/en/latest/getting_started/multiple_instances.html#discord-bots-and-asynchronous-environments for more info.\n",
            "\n"
          ]
        },
        {
          "output_type": "stream",
          "name": "stdout",
          "text": [
            "\n",
            "Comment: Important to know that remission is the key goal in treating a depressive episode because a response alone is very likely to result in a relapse. While psilocybin separated from placebo for a response, it did not do so for remission. For comparison, pretty much every standard oral anti-depressant separates from placebo when looking at remission (https://www.thelancet.com/article/S0140-6736(17)32802-7/fulltext#sec1). It's apples to oranges as far as study design, but a single dose of psilocybin seems to not meet the important threshold in actually preventing relapse (i.e. remission). Also important to note this study is not looking at the far more common psychedelic-assisted therapy. \n",
            "\n",
            "Also, it's really important for people not familiar with this to actually look at the exclusion criteria for psychedelics in these studies. In people with seemingly no significant risk factors these substances seem fairly benign, but the studies exclude a lot of people to get to that population.\n",
            "Sentiment Compound Score: -0.8428\n",
            "Sentiment: Against it\n",
            "------------------------------------------------------------\n",
            "\n",
            "Comment: Have to admit I'm intrigued. There's enough anecdotal evidence to show that it can be useful, I'm excited to see what more studies show.\n",
            "Sentiment Compound Score: 0.7269\n",
            "Sentiment: Very happy and will try again\n",
            "------------------------------------------------------------\n",
            "\n",
            "Comment: Well it worked in my particular case.\n",
            "Sentiment Compound Score: 0.2732\n",
            "Sentiment: Happy with the results\n",
            "------------------------------------------------------------\n",
            "\n",
            "Comment: This psychedelic revolution is fascinating and I have high hopes. What I don’t know, however, is how do you scale it? I think having a psychologist with an interest in psychedelics is key to the pt improving and I worry there aren’t that many talk therapists out there that fit the bill. You see it already with cash only ketamine mills opening up. Now if the psychologist benefits occur without input from a psychologist that would be very intriguing indeed, although having psych would probably lower the negative outcomes as well. \n",
            "\n",
            "Anybody here that’s been thru the MAPS training that has more details please share and thanks for doing gods work here on planet earth!\n",
            "Sentiment Compound Score: 0.9496\n",
            "Sentiment: Very happy and will try again\n",
            "------------------------------------------------------------\n",
            "\n",
            "Comment: Just me, or is this a bizarrely short follow-up period? I can't imagine going to all this effort for such a short trial.\n",
            "Sentiment Compound Score: 0.0\n",
            "Sentiment: Neutral\n",
            "------------------------------------------------------------\n",
            "\n",
            "Scraping posts from r/health:\n"
          ]
        },
        {
          "output_type": "stream",
          "name": "stderr",
          "text": [
            "WARNING:praw:It appears that you are using PRAW in an asynchronous environment.\n",
            "It is strongly recommended to use Async PRAW: https://asyncpraw.readthedocs.io.\n",
            "See https://praw.readthedocs.io/en/latest/getting_started/multiple_instances.html#discord-bots-and-asynchronous-environments for more info.\n",
            "\n"
          ]
        },
        {
          "output_type": "stream",
          "name": "stdout",
          "text": [
            "\n",
            "Post Title: Cancer vaccine with minimal side effects nearing Phase 3 clinical trials Each shot would be completely personalized to the patient.\n",
            "\n",
            "Post Comments:\n"
          ]
        },
        {
          "output_type": "stream",
          "name": "stderr",
          "text": [
            "WARNING:praw:It appears that you are using PRAW in an asynchronous environment.\n",
            "It is strongly recommended to use Async PRAW: https://asyncpraw.readthedocs.io.\n",
            "See https://praw.readthedocs.io/en/latest/getting_started/multiple_instances.html#discord-bots-and-asynchronous-environments for more info.\n",
            "\n"
          ]
        },
        {
          "output_type": "stream",
          "name": "stdout",
          "text": [
            "\n",
            "Comment: **Bot message:** \n",
            "\n",
            "Help make this a better community by clicking the \"report\" link on any comment made by any [anti-vaxxers.] (https://old.reddit.com/r/health/about/rules/) Thanks!\n",
            "\n",
            "\n",
            "*I am a bot, and this action was performed automatically. Please [contact the moderators of this subreddit](/message/compose/?to=/r/Health) if you have any questions or concerns.*\n",
            "Sentiment Compound Score: 0.8777\n",
            "Sentiment: Very happy and will try again\n",
            "------------------------------------------------------------\n",
            "\n",
            "Comment: The stage 4 cancer results are staggering. 67% survival for the treatment group compared to 0% in the placebo. Hopefully the stage 3 clinical trials are also very successful\n",
            "Sentiment Compound Score: 0.3384\n",
            "Sentiment: Happy with the results\n",
            "------------------------------------------------------------\n",
            "\n",
            "Comment: I need this, have had cancer 3x, age 52, otherwise extremely fit and health.\n",
            "Sentiment Compound Score: -0.3832\n",
            "Sentiment: Not happy or reluctant to try\n",
            "------------------------------------------------------------\n",
            "\n",
            "Comment: I'm a clinical scientist, so hear me out.  This is the 'holy grail' of cancer therapeutics that has been under development for decades. The results in Phase 2 clinical studies are stunning.  Cancer treatments get a more urgent FDA review, so I would hope that they are full on pushing their Phase 3 studies and are able to deliver their results to FDA in a just a few years.  It really could happen!!\n",
            "Sentiment Compound Score: -0.5443\n",
            "Sentiment: Not happy or reluctant to try\n",
            "------------------------------------------------------------\n",
            "\n",
            "Comment: This is incredible.  I am stage 4 now, only hope I live long enough to be able to try this.  \n",
            "\n",
            "Even if it’s only half effective, ask anyone with stage 4 how much they would like a drug with minimal side effects.  I don’t think that exists yet.  It’s not much fun to be dying and in severe pain, and then they give you a drug that probably won’t work, but you get to add horrific diarrhea, intense skin rashes and violent vomiting.  Or whatever the drug if the week has to offer.  It’s insanity.\n",
            "Sentiment Compound Score: -0.959\n",
            "Sentiment: Against it\n",
            "------------------------------------------------------------\n",
            "\n",
            "Post Title: BioNTech New Clinical Trial for Herpes Vaccine begins\n",
            "\n",
            "Post Comments:\n"
          ]
        },
        {
          "output_type": "stream",
          "name": "stderr",
          "text": [
            "WARNING:praw:It appears that you are using PRAW in an asynchronous environment.\n",
            "It is strongly recommended to use Async PRAW: https://asyncpraw.readthedocs.io.\n",
            "See https://praw.readthedocs.io/en/latest/getting_started/multiple_instances.html#discord-bots-and-asynchronous-environments for more info.\n",
            "\n"
          ]
        },
        {
          "output_type": "stream",
          "name": "stdout",
          "text": [
            "\n",
            "Comment: **Bot message:** \n",
            "\n",
            "Help make this a better community by clicking the \"report\" link on any comment made by any [anti-vaxxers.] (https://old.reddit.com/r/health/about/rules/) Thanks!\n",
            "\n",
            "\n",
            "*I am a bot, and this action was performed automatically. Please [contact the moderators of this subreddit](/message/compose/?to=/r/Health) if you have any questions or concerns.*\n",
            "Sentiment Compound Score: 0.8777\n",
            "Sentiment: Very happy and will try again\n",
            "------------------------------------------------------------\n",
            "\n",
            "Comment: Quite uplifting news honestly for those that aren’t afflicted by HSV. There’s a huge stigma around HSV for those that suffer from Cold Sores or Genital outbreaks.  \n",
            "\n",
            "Hopefully good results come from this!\n",
            "Sentiment Compound Score: 0.6658\n",
            "Sentiment: Very happy and will try again\n",
            "------------------------------------------------------------\n",
            "\n",
            "Comment: Always wondered why they haven’t been able to cure a virus that something like 60% of global population has.\n",
            "Sentiment Compound Score: 0.3612\n",
            "Sentiment: Happy with the results\n",
            "------------------------------------------------------------\n",
            "\n",
            "Comment: For more info on medical advances for HSV:\n",
            "\n",
            "r/herpescureadvocates\n",
            "Sentiment Compound Score: 0.0\n",
            "Sentiment: Neutral\n",
            "------------------------------------------------------------\n",
            "\n",
            "Comment: Hopefully there are multiple places working a possible cure.\n",
            "Sentiment Compound Score: 0.4019\n",
            "Sentiment: Happy with the results\n",
            "------------------------------------------------------------\n",
            "\n",
            "Scraping posts from r/breastcancer:\n"
          ]
        },
        {
          "output_type": "stream",
          "name": "stderr",
          "text": [
            "WARNING:praw:It appears that you are using PRAW in an asynchronous environment.\n",
            "It is strongly recommended to use Async PRAW: https://asyncpraw.readthedocs.io.\n",
            "See https://praw.readthedocs.io/en/latest/getting_started/multiple_instances.html#discord-bots-and-asynchronous-environments for more info.\n",
            "\n"
          ]
        },
        {
          "output_type": "stream",
          "name": "stdout",
          "text": [
            "\n",
            "Post Title: Clinical trial??? \n",
            "\n",
            "Post Comments:\n"
          ]
        },
        {
          "output_type": "stream",
          "name": "stderr",
          "text": [
            "WARNING:praw:It appears that you are using PRAW in an asynchronous environment.\n",
            "It is strongly recommended to use Async PRAW: https://asyncpraw.readthedocs.io.\n",
            "See https://praw.readthedocs.io/en/latest/getting_started/multiple_instances.html#discord-bots-and-asynchronous-environments for more info.\n",
            "\n"
          ]
        },
        {
          "output_type": "stream",
          "name": "stdout",
          "text": [
            "\n",
            "Comment: I am stage 2a also. As tempting as it would be to do less chemo, since I chose to do it to try and save my life, I wouldn’t want to chance TNBC coming back, so I would want keynote 522, the whole protocol.\n",
            "Sentiment Compound Score: 0.7003\n",
            "Sentiment: Very happy and will try again\n",
            "------------------------------------------------------------\n",
            "\n",
            "Comment: Considering the success of the Keynote 522 regime in increasing overall survival for us, I would personally be very hesitant to then cut some of the treatment out. It thankfully worked well for me, I had a full response to the chemo (stage 2a).\n",
            "\n",
            "Which chemo would you get on the trial?\n",
            "Sentiment Compound Score: 0.6378\n",
            "Sentiment: Very happy and will try again\n",
            "------------------------------------------------------------\n",
            "\n",
            "Comment: I did! My clinical trial was very similar - less chemo needed for my specific type of cancer. The standard of care is 12 weeks of Taxol, surgery, then 4 rounds of AC. The clinical trial was that if surgery after the 12 taxols showed no cancer, I wouldn’t have to do the AC. So I didn’t have to do any AC which I was thrilled about! My oncologist even said afterwards that in Finland they used a drug less aggressive than taxol and for less sessions and saw success\n",
            "Sentiment Compound Score: -0.4751\n",
            "Sentiment: Not happy or reluctant to try\n",
            "------------------------------------------------------------\n",
            "\n",
            "Comment: I'm a TNBC too & am on the tropion-breast03 trial. I want for that as no matter what arm I was randomised into, even if I was standard, I'd be better looked after as I'd be on the trial. They were not wrong. The standard of treatment is a lot better.\n",
            "\n",
            "Also my reoccurrence rate was between 20-40% in the next 5 years & for me personally that was too high.\n",
            "\n",
            "What trial have you been offered?\n",
            "Sentiment Compound Score: 0.7618\n",
            "Sentiment: Very happy and will try again\n",
            "------------------------------------------------------------\n",
            "\n",
            "Comment: I just decided against a trial where I would be given additional immunotherapy above the standard Kadcyla and I am so disappointed that I had to decline. The facility left me in the waiting room the first time for 45 minutes and the lady next to me had been waiting 1 hour and 45 minutes. When they couldn’t tell me when I’d be seen, I left. \n",
            "\n",
            "The doctor called me that evening, apologized, explained the trial, and I agreed to come back in. The coordination for the follow up appointment was horrendous and when I got there, I was left waiting in a room for 30 minutes when I was supposed to have blood work first. In talking with the NP, she told me during the trial, I would see the doctor first before immunotherapy and he does run late with his schedule.\n",
            "\n",
            "I know this is way different than you’re question but I was so disgusted by my experience. I was definitely interested in that trial and the fact that they would be so disrespectful of my time floored me. I’m so tired of treatment after already having TCH chemo and surgery — with radiation, physical therapy, immunotherapy and estrogen blockers still to come. It’s already a fricken full-time job. You’d think they would show more consideration for patient’s time and what we are going through.\n",
            "Sentiment Compound Score: -0.7711\n",
            "Sentiment: Against it\n",
            "------------------------------------------------------------\n",
            "\n",
            "Post Title: Anyone on clinical trials?\n",
            "\n",
            "Post Comments:\n"
          ]
        },
        {
          "output_type": "stream",
          "name": "stderr",
          "text": [
            "WARNING:praw:It appears that you are using PRAW in an asynchronous environment.\n",
            "It is strongly recommended to use Async PRAW: https://asyncpraw.readthedocs.io.\n",
            "See https://praw.readthedocs.io/en/latest/getting_started/multiple_instances.html#discord-bots-and-asynchronous-environments for more info.\n",
            "\n"
          ]
        },
        {
          "output_type": "stream",
          "name": "stdout",
          "text": [
            "\n",
            "Comment: Went on the Destiny 05 trial (Enhertu vs Kadcyla), but unfortunately was randomized to Kadcyla (standard of care).  I dropped from the trial and went on to a vaccine trial for HER 2 (wokvac vs DC1).  \n",
            "\n",
            "For me, it was to try to do everything I can to hopefully save my life.  And if it doesn’t work for me, hopefully it will help women in the future.\n",
            "Sentiment Compound Score: 0.9161\n",
            "Sentiment: Very happy and will try again\n",
            "------------------------------------------------------------\n",
            "\n",
            "Comment: I have recently started on the Ascent Trial -immunotherapy and tredelvy. Starting my third cycle this week. With. Scan on June 8 to see how we are going. After the first round I ended up in hospital but they reduced it by 75percent so am better this time around. Aimming to have ground breaking result.\n",
            "Sentiment Compound Score: 0.6448\n",
            "Sentiment: Very happy and will try again\n",
            "------------------------------------------------------------\n",
            "\n",
            "Comment: I am, but it’s very low key. Nothing out of the ordinary in terms of treatment except that I potentially won’t need as much. The trial says that for my type of cancer (+-+) that I should be able to potentially skip 4 rounds of AC after my 12 taxol and surgery, and potentially even radiation. So if they go in for surgery and everything is clear, I could be done with treatment (aside from hormone blockers). If they go in and I’m not clear enough, I continue with the standard of care and get AC and/or radiation.\n",
            "Sentiment Compound Score: 0.2289\n",
            "Sentiment: Happy with the results\n",
            "------------------------------------------------------------\n",
            "\n",
            "Comment: I’m not on a trail but I almost was- Destiny Breast 09. \n",
            "Not quite the answer you were looking for but partially. I wanted to do the trail because it seemed like with this unfortunate ‘curse’ I was diagnosed with   I might be able to help someone in the future especially someone like me. I have a BSc from uni and understand the process for clinical trials so I was more intrigued. \n",
            "\n",
            "My liver enzymes were too high and I would have had to wait 5 weeks of further tests before starting the trail and my doctor didn’t want to wait any longer. (glad she didn’t because after 3 rounds of chemo they are back to normal)\n",
            "Sentiment Compound Score: 0.7579\n",
            "Sentiment: Very happy and will try again\n",
            "------------------------------------------------------------\n",
            "\n",
            "Comment: Stage 2, Hormone positive, lymph node involvement, a sneeze away from stage 3.\n",
            "\n",
            "I’ve been doing clinical trials since I finished active treatment. However mine have all been exercise or yoga related to neuropathy and frozen shoulder. \n",
            "\n",
            "I also did IVF prior to treatment for egg retrieval (after I lost my first trimester pregnancy, it was a shit show)  I also signed paperwork with my husband to donate any of our genetic material that wasn’t viable for whatever reason to be used for medical research purposes.  \n",
            "\n",
            "Sadly this isn’t my only health condition and I’ve been sick since I was 10 with severe neurological issues.  My parents and I have been consenting to research and trials to further medical research.  I figure since my genes are screwed (I have all the family health issues) maybe they can learn from me so others won’t have to suffer as I did.\n",
            "Sentiment Compound Score: -0.9325\n",
            "Sentiment: Against it\n",
            "------------------------------------------------------------\n",
            "\n",
            "Scraping posts from r/melbourne:\n"
          ]
        },
        {
          "output_type": "stream",
          "name": "stderr",
          "text": [
            "WARNING:praw:It appears that you are using PRAW in an asynchronous environment.\n",
            "It is strongly recommended to use Async PRAW: https://asyncpraw.readthedocs.io.\n",
            "See https://praw.readthedocs.io/en/latest/getting_started/multiple_instances.html#discord-bots-and-asynchronous-environments for more info.\n",
            "\n"
          ]
        },
        {
          "output_type": "stream",
          "name": "stdout",
          "text": [
            "\n",
            "Post Title: Has anyone here actually done a clinical trial?\n",
            "\n",
            "Post Comments:\n"
          ]
        },
        {
          "output_type": "stream",
          "name": "stderr",
          "text": [
            "WARNING:praw:It appears that you are using PRAW in an asynchronous environment.\n",
            "It is strongly recommended to use Async PRAW: https://asyncpraw.readthedocs.io.\n",
            "See https://praw.readthedocs.io/en/latest/getting_started/multiple_instances.html#discord-bots-and-asynchronous-environments for more info.\n",
            "\n"
          ]
        },
        {
          "output_type": "stream",
          "name": "stdout",
          "text": [
            "\n",
            "Comment: I've heard boredom is a big part as you're effectively locked in. Take some uni work to get ahead on your studies.\n",
            "Sentiment Compound Score: 0.1531\n",
            "Sentiment: Neutral\n",
            "------------------------------------------------------------\n",
            "\n",
            "Comment: I did the first phase Australian trial of the Novavax Covid Vaccine however that was only a handful of out patient visits and keeping a diary, so overall quite low impact on my day to day activities. I would go in, fill out some questionnaires, have an ECG and blood taken, then on two occassions get a blind test vaccine (either an actual vaccine or a placebo). Probably took about 3 hours per visit and there were maybe 6 visits.   \n",
            "\n",
            "\n",
            "Due to this it also paid a lot less.  \n",
            "\n",
            "\n",
            "All up it was pretty easy and I was comfortable with the risks. It also helped lessen a bit of the helplessness I was feeling being isolated during the first few lock downs.\n",
            "Sentiment Compound Score: -0.2398\n",
            "Sentiment: Not happy or reluctant to try\n",
            "------------------------------------------------------------\n",
            "\n",
            "Comment: The reason they’re in a trial period is because they are trying to understand the risks. Theres not really a way of knowing. A safer way to do this (but sadly pays less) is signing up to trials or testing performed by university students as it always needs to be approved by lecturers and department specific boards. Apply to participate at every university for multiple departments such as psychology, medical science, mathematics and statistics, computer science, nursing etc.\n",
            "\n",
            "Not all will select you all the time but anywhere between $5 - $100 every time you do adds up, especially if you diversify your availability and improve odds of getting asked to join.\n",
            "Sentiment Compound Score: 0.7906\n",
            "Sentiment: Very happy and will try again\n",
            "------------------------------------------------------------\n",
            "\n",
            "Comment: Hello! I work for a pharmaceutical company in Clinical Trials.\n",
            "\n",
            "1. Most trials that pay for your time are healthy volunteer, phase 1/first time in human trials. This of course means there is a degree of risk, however I can assure you that there are soooo many safety protocols put in place by companies (such as, only 1 participant dosed at once, certain waiting periods between participant doses to ensure no safety flags crop up).  Phase 2/phase 3 trials naturally have less risk, but those will more likely be tested in the population the drug is for, so if you have a specific ailment, you could look into that.\n",
            "\n",
            "2. All trials in Australia and globally must be approved by an independent ethics committee and are registered with the TGA for safety monitoring.\n",
            "\n",
            "3. compensation is for your time - (generally) higher pay ≠ higher risk. Generally just means you are required to be monitored for a longer time. Compensation is also reviewed by ethics committees to ensure it is appropriate and not coersive.\n",
            "\n",
            "4. I know there is generally a whole conspiracy about pharma companies and trials but I know first hand that this stuff is so tightly regulated in Australia and across the globe. It is literally my job to audit the trials to ensure they are being run per protocol, and that nothing awry is occuring. \n",
            "\n",
            "5. You will be given a (probably very long) consent form to review that will go over everything, including potential benefits, risks, and explain the process. A Dr MUST go through this with you, and can answer any of your questions. \n",
            "\n",
            "As a general note, pharmaceutical companies are incresingly aware of \"professional patients\" or people who lie on inclusion/exclusion criteria just to be in the trial for the money. This IS dangerous and can compromise the data and patient safety. Pls don't do this :-)\n",
            "\n",
            "Happy to answer any questions you have :-)\n",
            "Sentiment Compound Score: 0.9844\n",
            "Sentiment: Very happy and will try again\n",
            "------------------------------------------------------------\n",
            "\n",
            "Comment: I did it as a student - easy as pie, never had any dramas.\n",
            "It also cured me of my fear of needles\n",
            "Sentiment Compound Score: -0.0772\n",
            "Sentiment: Neutral\n",
            "------------------------------------------------------------\n",
            "\n",
            "Post Title: Anyone here done a clinical trial at Nucleus Network?\n",
            "\n",
            "Post Comments:\n"
          ]
        },
        {
          "output_type": "stream",
          "name": "stderr",
          "text": [
            "WARNING:praw:It appears that you are using PRAW in an asynchronous environment.\n",
            "It is strongly recommended to use Async PRAW: https://asyncpraw.readthedocs.io.\n",
            "See https://praw.readthedocs.io/en/latest/getting_started/multiple_instances.html#discord-bots-and-asynchronous-environments for more info.\n",
            "\n"
          ]
        },
        {
          "output_type": "stream",
          "name": "stdout",
          "text": [
            "\n",
            "Comment: Pleasing taste. Some monsterism.\n",
            "Sentiment Compound Score: 0.5267\n",
            "Sentiment: Happy with the results\n",
            "------------------------------------------------------------\n",
            "\n",
            "Comment: you aren't going to get any responses from people who have done it because they have all died\n",
            "Sentiment Compound Score: -0.5574\n",
            "Sentiment: Not happy or reluctant to try\n",
            "------------------------------------------------------------\n",
            "\n",
            "Comment: I knew someone a while ago who did them frequently. They aren't very risky. The medicines have already been through trials before they recruit for paid subjects. She was always pretty satisfied with the payment but said the time there can be boring. It's an open sort of ward so not a lot of privacy but worth it for the large sums.\n",
            "Sentiment Compound Score: 0.4223\n",
            "Sentiment: Happy with the results\n",
            "------------------------------------------------------------\n",
            "\n",
            "Comment: I had a friend who got all sorts of cool vaccines through them. He had a great time. I would do them but I'm too much of a parent to take off for a week, but it would hands down make my year if I could chill in a room with meals brought to me for a week.\n",
            "Sentiment Compound Score: 0.6486\n",
            "Sentiment: Very happy and will try again\n",
            "------------------------------------------------------------\n",
            "\n",
            "Comment: I participated in three studies on drugs: eye drops for glaucoma, vaginal gel prikenser and painkillers for spinal pain. Before each of the studies, I went through a full range of tests, including specialists from an afiolmologist, a gynecologist, a psychologist ... in everyday life, these examinations cost me a lot of money - but as part of the training, this is included in the course - it's great! besides, I constantly maintain a diet and a healthy lifestyle, because this is necessary in order to be selected for research - that's good! also participation in the study - well paid - it's great!\n",
            "PS. studies are carried out in a professional and competent environment, the staff is very responsive. payment clear in 2 weeks.\n",
            "Sentiment Compound Score: 0.9867\n",
            "Sentiment: Very happy and will try again\n",
            "------------------------------------------------------------\n",
            "\n",
            "Scraping posts from r/auckland:\n"
          ]
        },
        {
          "output_type": "stream",
          "name": "stderr",
          "text": [
            "WARNING:praw:It appears that you are using PRAW in an asynchronous environment.\n",
            "It is strongly recommended to use Async PRAW: https://asyncpraw.readthedocs.io.\n",
            "See https://praw.readthedocs.io/en/latest/getting_started/multiple_instances.html#discord-bots-and-asynchronous-environments for more info.\n",
            "\n"
          ]
        },
        {
          "output_type": "stream",
          "name": "stdout",
          "text": [
            "\n",
            "Post Title: Clinic trials\n",
            "\n",
            "Post Comments:\n"
          ]
        },
        {
          "output_type": "stream",
          "name": "stderr",
          "text": [
            "WARNING:praw:It appears that you are using PRAW in an asynchronous environment.\n",
            "It is strongly recommended to use Async PRAW: https://asyncpraw.readthedocs.io.\n",
            "See https://praw.readthedocs.io/en/latest/getting_started/multiple_instances.html#discord-bots-and-asynchronous-environments for more info.\n",
            "\n"
          ]
        },
        {
          "output_type": "stream",
          "name": "stdout",
          "text": [
            "\n",
            "Comment: I did one for 6k, 3 night stay then 2 weeks of follow up. I was unemployed at the time so it was worth it. They will take a lot of blood samples from you so prepare for that.\n",
            "\n",
            "Read up for what they are testing you for, the one I did was for a patent of a medication that was about to expire, so they were testing for issues on something that is already in the mass market. I was happy to accept that risk.\n",
            "\n",
            "The follow up sessions are the worst especially if you have other commitments. So take account of that before you commit. They will deduct money from you if you miss it.\n",
            "Sentiment Compound Score: 0.5209\n",
            "Sentiment: Happy with the results\n",
            "------------------------------------------------------------\n",
            "\n",
            "Comment: I've done a few... Just because I'm curious how things are done research wise and because I'm fascinated with medical stuff.\n",
            "\n",
            "That particular study is not a first time gig.... Do a short one 3 or 4 nights with no more than 10 follow ups... That one is HARDCORE... They make you eat 3 meals plus 1 or 2 snacks a day it's super strict and you HAVE to eat every mouthful within a set time.... guys usually moan THE WHOLE FUCKING TIME how hungry they are... Meanwhile I'm so full I'm half way to a food coma, but I'm craving vegetables and spicy food by day 3... So it's really variable experience.\n",
            "\n",
            "Keep in mind if you can't entertain yourself for days at a time while being very sedentary this is also not for you. You are very much confined to a bed and a social room. They provide decent internet and on a 15 day study they might take you outside once or twice usually to the rooftop or a supervised short walk around the block. \n",
            "\n",
            "Medically these are stage 3 healthy volunteer trials so fairly safe... That said I did have an adverse reaction to one of the drugs and because you are so closely monitored the whole time they picked it up before I even felt anything and I had to stay an extra 2 nights and had extra follow ups and everything is back to normal. I was paid a little extra for the inconvenience and the rest of the trial was called off and everyone else sent home early with half the pay. So keep that in mind especially if it's a multiple dose study.... And especially with loads of followups. \n",
            "\n",
            "Feel free to pm me for any questions you might have.\n",
            "Sentiment Compound Score: -0.024\n",
            "Sentiment: Neutral\n",
            "------------------------------------------------------------\n",
            "\n",
            "Comment: I've done a few of them. The longest I did was a 4 night stay. Man you would get cabin fever major time with 15 nights, I couldn't handle doing one that long, even for 13k. It's not too bad they feed you well and they kind of entertain you, usually there's a pool table and gaming etc. You're stuck in a little private hospital in Grafton for the duration. The worst part is getting turned in to a pin cushion and having your blood taken all the time. Usually they stick a catheter in your arm and you have to keep it in around the time of the dosing. There is a lot of strict rules around eating, exercising, and taking additional medications. Doing them is okay for people like students or who work casually etc, it would be a bit harder to do it if you have a full time job, but it's possible. Also they pay for all your transport (usually a taxi) to and from the hospital for the actual stay + follow up appointments.\n",
            "Sentiment Compound Score: 0.2212\n",
            "Sentiment: Happy with the results\n",
            "------------------------------------------------------------\n",
            "\n",
            "Comment: I have no clue what BMI less than 35kg looks like but I’m already sure I’m way over that\n",
            "Sentiment Compound Score: 0.4767\n",
            "Sentiment: Happy with the results\n",
            "------------------------------------------------------------\n",
            "\n",
            "Comment: That's a huge commitment, for not much pay.  Will you need to take time off work or study for the 37 visits?\n",
            "Sentiment Compound Score: 0.6365\n",
            "Sentiment: Very happy and will try again\n",
            "------------------------------------------------------------\n",
            "\n",
            "Post Title: Nz Clinical Trials\n",
            "\n",
            "Post Comments:\n"
          ]
        },
        {
          "output_type": "stream",
          "name": "stderr",
          "text": [
            "WARNING:praw:It appears that you are using PRAW in an asynchronous environment.\n",
            "It is strongly recommended to use Async PRAW: https://asyncpraw.readthedocs.io.\n",
            "See https://praw.readthedocs.io/en/latest/getting_started/multiple_instances.html#discord-bots-and-asynchronous-environments for more info.\n",
            "\n"
          ]
        },
        {
          "output_type": "stream",
          "name": "stdout",
          "text": [
            "\n",
            "Comment: I did and I loved it. I would make sure you’re doing something they’ve already trialled tho to make sure you stay alive lol\n",
            "Sentiment Compound Score: 0.9169\n",
            "Sentiment: Very happy and will try again\n",
            "------------------------------------------------------------\n",
            "\n",
            "Comment: I've heard they even pay for your taxi there and back?\n",
            "Sentiment Compound Score: -0.1027\n",
            "Sentiment: Neutral\n",
            "------------------------------------------------------------\n",
            "\n",
            "Comment: signed up for a flu vaccine trial, it was cancelled. bit annoying\n",
            "Sentiment Compound Score: -0.743\n",
            "Sentiment: Against it\n",
            "------------------------------------------------------------\n",
            "\n",
            "Comment: Just finished one and would recommend it if you need easy money. You only get paid at the end (1-2 weeks after all visits are completed) and you do get taxed. For your first one I'd pick a study that doesn't last too long overall and doesn't have a long inpatient stay (under a week long inpatient). This way you can make sure you like it.\n",
            "\n",
            "Transport to and from your visits are paid (up to a certain amount).\n",
            "\n",
            "If you've got specific questions I'm happy to answer them :)\n",
            "Sentiment Compound Score: 0.9517\n",
            "Sentiment: Very happy and will try again\n",
            "------------------------------------------------------------\n",
            "\n",
            "Comment: Lol how do you find that out. That's great though! I'm thinking of trialing one :)\n",
            "Sentiment Compound Score: 0.8805\n",
            "Sentiment: Very happy and will try again\n",
            "------------------------------------------------------------\n",
            "\n",
            "Scraping posts from r/ClinTrialExplain:\n"
          ]
        },
        {
          "output_type": "stream",
          "name": "stderr",
          "text": [
            "WARNING:praw:It appears that you are using PRAW in an asynchronous environment.\n",
            "It is strongly recommended to use Async PRAW: https://asyncpraw.readthedocs.io.\n",
            "See https://praw.readthedocs.io/en/latest/getting_started/multiple_instances.html#discord-bots-and-asynchronous-environments for more info.\n",
            "\n",
            "WARNING:praw:It appears that you are using PRAW in an asynchronous environment.\n",
            "It is strongly recommended to use Async PRAW: https://asyncpraw.readthedocs.io.\n",
            "See https://praw.readthedocs.io/en/latest/getting_started/multiple_instances.html#discord-bots-and-asynchronous-environments for more info.\n",
            "\n"
          ]
        },
        {
          "output_type": "stream",
          "name": "stdout",
          "text": [
            "\n",
            "Post Title: Personal stories from clinical trial participants\n",
            "\n",
            "Post Comments:\n",
            "\n",
            "Post Title: How to find clinical trials?\n",
            "\n",
            "Post Comments:\n"
          ]
        },
        {
          "output_type": "stream",
          "name": "stderr",
          "text": [
            "WARNING:praw:It appears that you are using PRAW in an asynchronous environment.\n",
            "It is strongly recommended to use Async PRAW: https://asyncpraw.readthedocs.io.\n",
            "See https://praw.readthedocs.io/en/latest/getting_started/multiple_instances.html#discord-bots-and-asynchronous-environments for more info.\n",
            "\n"
          ]
        },
        {
          "output_type": "stream",
          "name": "stdout",
          "text": [
            "\n",
            "Scraping posts from r/universityofauckland:\n"
          ]
        },
        {
          "output_type": "stream",
          "name": "stderr",
          "text": [
            "WARNING:praw:It appears that you are using PRAW in an asynchronous environment.\n",
            "It is strongly recommended to use Async PRAW: https://asyncpraw.readthedocs.io.\n",
            "See https://praw.readthedocs.io/en/latest/getting_started/multiple_instances.html#discord-bots-and-asynchronous-environments for more info.\n",
            "\n"
          ]
        },
        {
          "output_type": "stream",
          "name": "stdout",
          "text": [
            "\n",
            "Post Title: Has anyone got experience doing clinical trials? Is it worth it?\n",
            "\n",
            "Post Comments:\n"
          ]
        },
        {
          "output_type": "stream",
          "name": "stderr",
          "text": [
            "WARNING:praw:It appears that you are using PRAW in an asynchronous environment.\n",
            "It is strongly recommended to use Async PRAW: https://asyncpraw.readthedocs.io.\n",
            "See https://praw.readthedocs.io/en/latest/getting_started/multiple_instances.html#discord-bots-and-asynchronous-environments for more info.\n",
            "\n"
          ]
        },
        {
          "output_type": "stream",
          "name": "stdout",
          "text": [
            "\n",
            "Comment: [deleted]\n",
            "Sentiment Compound Score: 0.0\n",
            "Sentiment: Neutral\n",
            "------------------------------------------------------------\n",
            "\n",
            "Comment: I’ve done two different trials with them and never had an issue, and the money is really good too. Though being a female with reproductive potential I don’t qualify for too many of them right off the bat.\n",
            "\n",
            "Feel free to pm me if you have any specific questions you want answered from a former inpatient perspective :)\n",
            "Sentiment Compound Score: 0.8687\n",
            "Sentiment: Very happy and will try again\n",
            "------------------------------------------------------------\n",
            "\n",
            "Comment: My boyfriend just did a two week clinical trial and made good money. It honestly depends on how you are with needles and what you’re looking for. His clinical trial had a long in patient stay (two weeks) but no check ups post stay. He also did a trial around a year ago that was only a couple of nights in patient, but had check ups every week for several months. Keep in mind that if your trial has check ups for a long time, you won’t be paid for a while, whereas if the trial is a long in patient stay with no or very few check ups, you’ll be paid a bit sooner.\n",
            "Sentiment Compound Score: -0.3919\n",
            "Sentiment: Not happy or reluctant to try\n",
            "------------------------------------------------------------\n",
            "\n",
            "Comment: I've done two studies with NZCR and I enjoyed both of them! It's very easy work for good pay, you mostly just get to hang out and watch Netflix/do uni work.\n",
            "\n",
            "The downside is that for most trials you need to be good with many blood draws/having a cannula, which usually leaves you with a pretty sore/bruised arm. You also have to eat everything they give you in a set period, with your last bite happening exactly on the minute. For someone like me who doesn't eat a lot of large meals, I found this the most difficult - but if you're a big eater you'll probably be slightly hungry the whole time! \n",
            "\n",
            "You often have to give urine/stool samples depending on the trial, which can be embarrassing for some. Because you're in a mixed sex ward with curtains dividing beds, you don't get a whole lot of privacy. You also can't leave to go outside and get fresh air unless you're on a really long trial, in which case they arrange group walks accompanied by nurses.\n",
            "\n",
            "As a woman, you often need specific birth control to get on one. Usually they look for surgically sterile women, or women with IUDs.\n",
            "\n",
            "They will explain carefully what each trial involves if you go in for a screening, make sure you pick ones that suit your preferred level of risk. My first trial tested a drug that had been on market and perfectly safe for decades, it's just that the patent expired and the trial was a formality so other companies could make a generic to sell. My second one was way riskier - I took ketamine, which was wild.\n",
            "\n",
            "Hope that gives you a good insight, feel free to PM me if you'd like more info!\n",
            "Sentiment Compound Score: 0.9862\n",
            "Sentiment: Very happy and will try again\n",
            "------------------------------------------------------------\n",
            "\n",
            "Comment: I get sent emails about them all the time, paying from $3k upwards for each trial. They just say to get advice from your GP on doing a trial. I told some relatives I was thinking about doing one and they freaked out and warned me not to. Then I found out some done overseas in the UK, etc, really caused people permanent damage, so they are probably not worth it.\n",
            "\n",
            "It does annoy me that in NZ we aren't paid for giving our blood, as that's one safe way to earn some money. They pay you in places like the USA for that.\n",
            "Sentiment Compound Score: -0.7965\n",
            "Sentiment: Against it\n",
            "------------------------------------------------------------\n",
            "\n",
            "Post Title: Anyone done a trial as ACS (Auckland Clinical Studies)?\n",
            "\n",
            "Post Comments:\n"
          ]
        },
        {
          "output_type": "stream",
          "name": "stderr",
          "text": [
            "WARNING:praw:It appears that you are using PRAW in an asynchronous environment.\n",
            "It is strongly recommended to use Async PRAW: https://asyncpraw.readthedocs.io.\n",
            "See https://praw.readthedocs.io/en/latest/getting_started/multiple_instances.html#discord-bots-and-asynchronous-environments for more info.\n",
            "\n"
          ]
        },
        {
          "output_type": "stream",
          "name": "stdout",
          "text": [
            "\n",
            "Comment: I want to, but they only ever want healthy people lol\n",
            "Sentiment Compound Score: 0.8338\n",
            "Sentiment: Very happy and will try again\n",
            "------------------------------------------------------------\n",
            "\n",
            "Comment: I did a 2 night stay with 20 outpatient visits. I found the inpatient stay a bit hard on my mental health, but the nurses and facilities were nice. I liked the outpatient visits as they got me up early in the morning and they weren’t long. PM me if you want to know more. Overall it was a worthwhile experience but I can’t see myself doing it again in the near future\n",
            "Sentiment Compound Score: 0.8945\n",
            "Sentiment: Very happy and will try again\n",
            "------------------------------------------------------------\n",
            "\n",
            "Comment: I'm doing one and it is conveniently timed for my schedule. You will have a preliminary visit showing you some timetables that might fit for you. The inpatient stay was great fun for me. You get a bed and there's a lounge and a TV and board games. You can ask all the questions you want at the preliminary appointment as well. The compensation payment from as far as I can tell hasn't messed with StudyLink at all, so you should be fine. And I've got a $1000 from it already with $3000 at the end. In the end, it's not really affecting my studies, and the study visits spread themselves out, for my study anyway, later down the track. i.e. it used to be biweekly, then weekly and now it's fortnightly. \n",
            "\n",
            "It seems that, while certain things don't change between studies, some of this information I'm giving you is purely based on my study, so, like I mentioned, hold out on all those questions for the preliminary visit, if you haven't already, and it should all be clear as mud by the end.\n",
            "\n",
            "Good luck!\n",
            "Sentiment Compound Score: 0.9829\n",
            "Sentiment: Very happy and will try again\n",
            "------------------------------------------------------------\n",
            "\n",
            "Comment: I did one that was a 15 night inpatient stay with 5 follow-ups. I personally found the inpatient stay quite enjoyable, as they have a pool table, as well as a massive selection of books, DVDs, video games and board games. I also brought my laptop to give me some extra things to do.\n",
            "\n",
            "However you do get various medical tests (almost) every morning. For my study it only involved basic things like vital sign checks, ECGs and blood draws, but I have heard of some studies requiring a skin biopsy. The food schedule also took a little while for me to get used to, but it ultimately showed me good eating habits that have stuck with me ever since.\n",
            "\n",
            "I think the most important thing is the group you are put with. My group had a lot of people that were the same age as me (early 20s), and we got along like a house on fire. We still keep in contact occasionally, and are planning on doing another study together next year.\n",
            "\n",
            "Overall I would definitely recommend doing a study, the whole process is very transparent and you will be able to find all the details and opt out at any time before dosage if you're worried about anything.\n",
            "\n",
            "Edit: I declared my income to StudyLink as coming from the inpatient stay only, and had no issues\n",
            "Sentiment Compound Score: 0.8843\n",
            "Sentiment: Very happy and will try again\n",
            "------------------------------------------------------------\n",
            "\n",
            "Comment: I’ve been interested in doing these studies but how do you find out what the study is for + side effects?\n",
            "Sentiment Compound Score: 0.2144\n",
            "Sentiment: Happy with the results\n",
            "------------------------------------------------------------\n",
            "\n",
            "Scraping posts from r/askscience:\n"
          ]
        },
        {
          "output_type": "stream",
          "name": "stderr",
          "text": [
            "WARNING:praw:It appears that you are using PRAW in an asynchronous environment.\n",
            "It is strongly recommended to use Async PRAW: https://asyncpraw.readthedocs.io.\n",
            "See https://praw.readthedocs.io/en/latest/getting_started/multiple_instances.html#discord-bots-and-asynchronous-environments for more info.\n",
            "\n"
          ]
        },
        {
          "output_type": "stream",
          "name": "stdout",
          "text": [
            "\n",
            "Post Title: Why women are so rarely included in clinical trials?\n",
            "\n",
            "Post Comments:\n"
          ]
        },
        {
          "output_type": "stream",
          "name": "stderr",
          "text": [
            "WARNING:praw:It appears that you are using PRAW in an asynchronous environment.\n",
            "It is strongly recommended to use Async PRAW: https://asyncpraw.readthedocs.io.\n",
            "See https://praw.readthedocs.io/en/latest/getting_started/multiple_instances.html#discord-bots-and-asynchronous-environments for more info.\n",
            "\n"
          ]
        },
        {
          "output_type": "stream",
          "name": "stdout",
          "text": [
            "\n",
            "Comment: [removed]\n",
            "Sentiment Compound Score: 0.0\n",
            "Sentiment: Neutral\n",
            "------------------------------------------------------------\n",
            "\n",
            "Comment: I work in research. From what I’ve seen so far these are the issues affecting the participation of women in research.\n",
            "\n",
            "-Appropriate contraception, active sex-life etc. is a massive restriction. Women need to be using multiple contraception methods, and/or be not sexually active (and only certain ones. Sometimes hormonal contraceptives will disqualify a patient). Giving birth on a study drug is a massive no no.\n",
            "\n",
            "-Women are more likely to seek help for depression and be on antidepressants than men. Antidepressants are a common medication to be disqualified for and a history of or current suicidal ideation will disqualify a patient from pretty much every study. (Another big universal study no no) https://www.cdc.gov/nchs/products/databriefs/db377.htm\n",
            "\n",
            "Then add onto that a history of male-centric healthcare, and onto that a reasonable fear from women that they will be mistreated due to that history of mistreatment/male-bias and you have a recipe for low participation\n",
            "\n",
            "Edit: As a whole however I have never seen a patient be deterred from enrolling for a study just because they’re a woman. \n",
            "\n",
            "Sites get paid per the patient, and drug companies want their study to be as randomized demographically as possible. Sure I’ve seen staff make sexist remarks or handle things inappropriately but absolutely everyone involved wants participation from women.\n",
            "\n",
            "Edit 2: Pregnancy, lactation, polydrug and combinational therapy safety studies are carried out after the drug is already on the market and only if someone absolutely needs the medication are they put on the drug and monitored. That’s why every drug under the sun says not to take it if you’re pregnant, or taking any of a massive list of other drugs.\n",
            "\n",
            "Why would we test pregnant women and other at-risk groups with experimental medication that we don’t even know is safe and effective for them yet? The tradeoffs are too severe to be worth it and it’s too complicated to predict. It’s not that it’s never done but testing on pregnant women and other at-risk groups is a last resort. \n",
            "\n",
            "Thalidomide, nicotine, alcohol, opioids, lithium, etc. Pretty much everything that has been given to pregnant women has life-altering effects on their offspring so the FDA said “hey guys we can’t keep doing this”.\n",
            "Sentiment Compound Score: 0.9127\n",
            "Sentiment: Very happy and will try again\n",
            "------------------------------------------------------------\n",
            "\n",
            "Comment: I work in clinical trials, and here is my perspective. Not including women in trials is also part of a greater conflict between wanting to get as scientifically reliable results as possible with at least confounding factors, and the fact that in the real world, we have nothing but confounding factors. \n",
            "\n",
            "There is no perfect control.  Looking at environmental toxins as an example, even in Amish communities, or rural remote parts of the world, it is almost impossible to find an area/people in an area not exposed to any chemicals (there are over 350,000 chemicals in the environment).  How can we determine what chemicals or which combination of them may have deleterious impacts on our health?  Again, there is no perfect control.\n",
            "\n",
            "How do we find the balance between determining the safety and efficacy of an IP with also needing to study the same IP on a very diverse population, exposed to many, chemicals, pharmaceuticals, and varying hormones, based on gender, age, and cycle?\n",
            "\n",
            "This is a very important topic that does not get discussed nearly enough by the FDA and other regulatory bodies.\n",
            "Sentiment Compound Score: 0.9321\n",
            "Sentiment: Very happy and will try again\n",
            "------------------------------------------------------------\n",
            "\n",
            "Comment: In the US women were literally banned from taking part in them from 1977 until 1993.\n",
            "\n",
            "[https://www.womenshealth.gov/30-achievements/04](https://www.womenshealth.gov/30-achievements/04)\n",
            "\n",
            "This was mostly due to high-profile cases such as the Thalidomide scandal causing deleterious harm to pregnant women.\n",
            "\n",
            "[https://en.wikipedia.org/wiki/Thalidomide\\_scandal](https://en.wikipedia.org/wiki/Thalidomide_scandal)\n",
            "\n",
            "However the industry has not \"self-corrected\" since then. It also does not explain why the issue of under-representation extends to non-medical testing such as crash-test dummies all being modelled after men.\n",
            "\n",
            "A male-dominated sexist outlook that, from a physiological perspective, women are just men with some extra troublesome parts pervades research from neurological conditions to ovarian cancer. Men are seen as the \"default\" mode of existence.\n",
            "Sentiment Compound Score: -0.9485\n",
            "Sentiment: Against it\n",
            "------------------------------------------------------------\n",
            "\n",
            "Comment: A lot of good answers here.  I work in clinical research, and while I'm surrounded by colleagues who are women, and we are making great strides to get women into clinical trials (I have worked a lot on HIV, where \"being a woman\" is often an independent risk factor for getting infected), much work remains to be done.  This systematic review (from nearly 10 years ago now) shows how badly we've been doing in the field of HIV.  Part of this may be explained by the fact that much of the work done in the US and Europe was with gay men, however the number of new infections in women exceeds that in men, sometimes by a very large margin (e.g., across much of Africa)\n",
            "\n",
            "[https://pubmed.ncbi.nlm.nih.gov/26361171/](https://pubmed.ncbi.nlm.nih.gov/26361171/)\n",
            "Sentiment Compound Score: 0.4767\n",
            "Sentiment: Happy with the results\n",
            "------------------------------------------------------------\n",
            "\n",
            "Post Title: How can clinical trials for treatment of mental health using psychoactive substances ever be 'double blind'? Surely the patient can tell if they've been given a placebo or not?\n",
            "\n",
            "Post Comments:\n",
            "\n",
            "Comment: It's true that the \"gold standard\" for clinical trials is randomized, double-blind, placebo-controlled, but can't be done with all drugs. Imagine trying to do that with a clinical trial for an anesthetic agent! When that can't be done, alternative designs can be used, such as single-blind, crossover studies, objective measures, and many more. However, with many drugs, especially antidepressants and anti-anxiety meds, this design works fine. The one criterion that cannot be ignored is the requirement for randomization to eliminate the risk of bias in patient/subject selection.\n",
            "Sentiment Compound Score: 0.3788\n",
            "Sentiment: Happy with the results\n",
            "------------------------------------------------------------\n",
            "\n",
            "Comment: Want to know a secret? Not all clinical trials are blinded (single or double). For instance, trials for percutaneous heart valves are often compared to surgery. Im coordinating a study like this now. Obviously we cannot hide if they've had open heart surgery or not. The gold standard of double blind studies are ideal, but are impossible for some areas of research. In some cases for blinded studies, we even have sham procedures where the team will pretend to do a procedure on a patient. That isn't possible for every procedure.\n",
            "\n",
            "The other thing is medication trials often don't use a true inactive placebo, but instead use a treatment that is known to be effective. They dont just need to show that the drug is safe/effective. They need to show it's as good as other alternatives. Patients also need to continue being treated for conditions we know how to treat. Its unethical to know they have a condition that needs treatment we can provide and give them a placebo instead. The control is often whatever is considered the gold standard of treatment at the time. Not all controls are placebos (or even most in medical research).\n",
            "\n",
            "The study I was on with a sham procedure had a question asking patients if they thought they got the procedure. The effect was noticeable (bp numbers) so patients who received it often said yes.\n",
            "Sentiment Compound Score: 0.8612\n",
            "Sentiment: Very happy and will try again\n",
            "------------------------------------------------------------\n",
            "\n",
            "Comment: So it is important to understand that dosing is a factor. Not every dose of psychoactive chemicals will bring about a psychedelic experience. In the case of psilocybin (shrooms) for example, a microdose probably won't be enough to send you to space, but it might alleviate the symptoms of heavy depression or activate parts of the brain that have been dormant since the onset of some other mental illness. \n",
            "\n",
            " To cut a long story short, dosing is probably low in these tests, making a placebo as valuable a tool in this scenario, as it would be in any other.\n",
            "Sentiment Compound Score: -0.8488\n",
            "Sentiment: Against it\n",
            "------------------------------------------------------------\n",
            "\n",
            "Comment: >surely the patient can tell if they’re in the placebo group simply because they’re not (in the case of something like LSD) ‘tripping balls’\n",
            "\n",
            "You might be surprised, actually. The placebo effect is powerful, and particularly for people who are completely naive to psychedelics prior to the trial (and thus have basically little idea what to expect), just the suggestion that they’ve been given a powerful hallucinogen can definitely be enough that they psychosomatically experience shifts in consciousness and possibly even sensory distortions that aren’t actually being caused by anything but their own brain. *Particularly* when we’re talking about psychotropic effects, people are actually especially vulnerable to the placebo effect, to the point where there’ve been a number of cases of certain substances being claimed to have some hallucinogenic effects that later assays found no actual evidence of. There are a number of purportedly-psychoactive plants and fungi this appears to be the case with, like the wormwood in traditional absinthe (which may have some mild stimulant-like effects, but not the supposed near-psychedelic properties it has long been attributed), then there’s the infamously legendary “adrenochrome” (which is really just oxidized epinephrine and seems to do basically nothing), or even the longstanding ridiculous myth of “bananadine” (a supposed psychoactive substance claimed by *The Anarchist’s Cookbook* to be present in baked banana peels, when in fact no such thing exists); inexperienced people in particular can easily report subjective experiences from something they have psyched themselves into believing is psychoactive, even if it is completely inactive. \n",
            "\n",
            "Actually, one of the most persistent examples of the power of placebo is in the thousands of different foods and drugs (or random animal parts) that have been claimed as “aphrodisiacs” throughout history, when to my knowledge actual pharmacology has yet to back up this claim with almost anything (I believe the only known “true” aphrodisiac to date is the drug [bremelanotide](https://en.m.wikipedia.org/wiki/Bremelanotide), which seems to fairly consistently increase sexual arousal on a neurological level in both men and women, and is now prescribed to postmenopausal women for such. Sildenafil—Viagra—and similar drugs don’t exactly count, as they’re just vasodilators, they don’t actually increase sexual arousal itself), and yet people continue insisting that this or that random thing is an aphrodisiac that always works for them. \n",
            "\n",
            "To some extent, this is true for clinical trials of a lot of different types of drugs, as quite a bit can be psychologically influenced, and it’s part of why double blind trials are so important with psych meds like antidepressants or anxiolytics (depression and anxiety varies a lot from person to person, but some people might report an improvement in their symptoms simply from the belief that they are now taking something which is supposed to help), given how many people I’ve met who were tricked into smoking oregano they thought was cannabis as teens, and still swore they felt “high” from it, I don’t see why psychotropic drugs would necessarily be different (especially for the inexperienced). \n",
            "\n",
            "This actually makes me wonder, considering how often pop culture vastly over-exaggerates and misrepresents the effects of common hallucinogenic drugs, I wonder if any inexperienced people experience a sort of nocebo effect when given an actual drug, like the effects are so much less than what they were expecting that they psych themselves into believing it’s not really working (this is probably not likely with higher doses of classical psychedelics, although it is worth noting people vary a lot in their response to psychedelics anyway, and some people report getting extremely little in the way of visual or other sensory effects even at moderate doses)?\n",
            "Sentiment Compound Score: 0.9699\n",
            "Sentiment: Very happy and will try again\n",
            "------------------------------------------------------------\n",
            "\n",
            "Comment: So sometimes this depends.\n",
            "\n",
            "With lower dosages of these drugs, and different sensitivities to them, then you may have a situation where folks can't tell the difference. Or where folks are experiencing psychosomatic effects.\n",
            "\n",
            "https://pubmed.ncbi.nlm.nih.gov/35918311/\n",
            "\n",
            "This study, for example, notes that only the people who correctly identified the experimental condition had significant effects from microdosing mushrooms. Suggesting that it's more about expectations than actual effects. For a follow up study, it would be interesting to make a suggestion to the placebo condition that they were microdosing. \n",
            "\n",
            "Generally, clinical trials would probably be more interested in lower doses that aren't hallucination-producing.\n",
            "Sentiment Compound Score: 0.4754\n",
            "Sentiment: Happy with the results\n",
            "------------------------------------------------------------\n"
          ]
        }
      ]
    },
    {
      "cell_type": "code",
      "source": [
        "# Print the final sentiment counts\n",
        "print(\"\\nSentiment Counts:\")\n",
        "for sentiment, count in sentiment_counts.items():\n",
        "  print(f\"{sentiment}: {count}\")"
      ],
      "metadata": {
        "colab": {
          "base_uri": "https://localhost:8080/"
        },
        "collapsed": true,
        "id": "6dB0VgCLA-81",
        "outputId": "1fabc3d9-5036-456f-f4da-6ab279305fb3"
      },
      "execution_count": 9,
      "outputs": [
        {
          "output_type": "stream",
          "name": "stdout",
          "text": [
            "\n",
            "Sentiment Counts:\n",
            "Very happy and will try again: 40\n",
            "Happy with the results: 18\n",
            "Neutral: 11\n",
            "Not happy or reluctant to try: 8\n",
            "Against it: 13\n"
          ]
        }
      ]
    },
    {
      "cell_type": "code",
      "source": [
        "# Generate personalized messages for Neutral sentiment using the OpenAI\n",
        "prompt = \"Many individuals are uncertain about the benefits of clinical trials for their health. \" \\\n",
        "        \"I'd like you to help clarify these doubts by explaining the advantages of \" \\\n",
        "        \"participating in clinical trials. Please address your response to an individual person. \" \\\n",
        "        \"Make it concise.\"\n",
        "\n",
        "print(\"OpenAI Response for Neutral Sentiment:\", generate_openai_response(prompt))\n",
        "print(\"-\" * 30)\n",
        "\n",
        "# Generate personalized messages for Reluctant Sentiment using the OpenAI\n",
        "prompt = \"Imagine you're addressing someone who is hesitant about participating in clinical trials \" \\\n",
        "        \"due to past negative experiences or general reluctance. Craft a persuasive prompt to encourage them \" \\\n",
        "        \"to reconsider their stance and explore the potential benefits of clinical trials for their health and well-being. \"\\\n",
        "        \"Make it concise.\"\n",
        "\n",
        "print(\"OpenAI Response for Not Happy or Reluctant Sentiment:\", generate_openai_response(prompt))\n",
        "print(\"-\" * 30)"
      ],
      "metadata": {
        "colab": {
          "base_uri": "https://localhost:8080/"
        },
        "id": "gf5_MoI6dr4D",
        "outputId": "044fa898-6159-4af8-c48b-684e716f2f96"
      },
      "execution_count": 14,
      "outputs": [
        {
          "output_type": "stream",
          "name": "stdout",
          "text": [
            "OpenAI Response for Neutral Sentiment: Dear Reader,\n",
            "\n",
            "Participating in clinical trials can offer access to cutting-edge treatments, expert medical care, and the opportunity to contribute to medical advancements. By joining a trial, you may receive early access to potentially life-saving therapies and help shape the future of healthcare. Your participation can make a real difference, both for yourself and for others facing similar health challenges.\n",
            "\n",
            "Best regards, \n",
            "Your AI Assistant\n",
            "------------------------------\n",
            "OpenAI Response for Not Happy or Reluctant Sentiment: I understand your concerns about past experiences with clinical trials, but I encourage you to reconsider. Clinical trials offer the opportunity to access cutting-edge treatments, contribute to medical advancements, and receive top-notch care from experts. Your participation could make a difference not only for yourself but for others as well. Take a step towards better health and well-being by exploring the benefits of clinical trials.\n",
            "------------------------------\n"
          ]
        }
      ]
    }
  ]
}